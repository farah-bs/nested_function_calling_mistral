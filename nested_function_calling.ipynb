{
  "cells": [
    {
      "cell_type": "markdown",
      "id": "a9226af6-32fa-4c3c-966a-e54099fcd09d",
      "metadata": {
        "id": "a9226af6-32fa-4c3c-966a-e54099fcd09d"
      },
      "source": [
        "# Nested function Calling with Mistral AI API\n",
        "\n",
        "\n",
        "Function calling allows Mistral models to connect to external tools. By integrating Mistral models with external tools such as user defined functions or APIs, users can easily build applications catering to specific use cases and practical problems. In this guide, for instance, we wrote two functions for tracking payment status and payment date. We can use these two tools to provide answers for payment-related queries.\n",
        "\n",
        "At a glance, there are four steps with function calling:\n",
        "\n",
        "- User: specify tools and query\n",
        "- Model: Generate function arguments if applicable\n",
        "- User: Execute function to obtain tool results\n",
        "- Model: Generate final answer\n",
        "\n",
        "This notebook is inspired by the [Mistral AI](https://www.mistral.ai/) youtube video on [Function Calling with Mistral AI](https://www.youtube.com/watch?v=eOo4GfHj3ZE&t=214s). Here, we will see how to call a function using the Mistral large model and the Mistral AI API."
      ]
    },
    {
      "cell_type": "code",
      "execution_count": 80,
      "id": "1b6a555d-75d1-4241-bee3-a4ffaab4ecd2",
      "metadata": {
        "colab": {
          "base_uri": "https://localhost:8080/"
        },
        "id": "1b6a555d-75d1-4241-bee3-a4ffaab4ecd2",
        "outputId": "1be952a0-0505-4320-d67d-2f01e9e2f354"
      },
      "outputs": [
        {
          "name": "stdout",
          "output_type": "stream",
          "text": [
            "Requirement already satisfied: pandas in ./anaconda3/envs/deep_learning_env/lib/python3.9/site-packages (2.2.2)\n",
            "Requirement already satisfied: mistralai in ./anaconda3/envs/deep_learning_env/lib/python3.9/site-packages (1.1.0)\n",
            "Requirement already satisfied: numpy>=1.22.4 in ./anaconda3/envs/deep_learning_env/lib/python3.9/site-packages (from pandas) (1.26.4)\n",
            "Requirement already satisfied: python-dateutil>=2.8.2 in ./anaconda3/envs/deep_learning_env/lib/python3.9/site-packages (from pandas) (2.8.2)\n",
            "Requirement already satisfied: pytz>=2020.1 in ./anaconda3/envs/deep_learning_env/lib/python3.9/site-packages (from pandas) (2024.1)\n",
            "Requirement already satisfied: tzdata>=2022.7 in ./anaconda3/envs/deep_learning_env/lib/python3.9/site-packages (from pandas) (2023.3)\n",
            "Requirement already satisfied: eval-type-backport<0.3.0,>=0.2.0 in ./anaconda3/envs/deep_learning_env/lib/python3.9/site-packages (from mistralai) (0.2.0)\n",
            "Requirement already satisfied: httpx<0.28.0,>=0.27.0 in ./anaconda3/envs/deep_learning_env/lib/python3.9/site-packages (from mistralai) (0.27.2)\n",
            "Requirement already satisfied: jsonpath-python<2.0.0,>=1.0.6 in ./anaconda3/envs/deep_learning_env/lib/python3.9/site-packages (from mistralai) (1.0.6)\n",
            "Requirement already satisfied: pydantic<3.0.0,>=2.9.0 in ./anaconda3/envs/deep_learning_env/lib/python3.9/site-packages (from mistralai) (2.9.2)\n",
            "Requirement already satisfied: typing-inspect<0.10.0,>=0.9.0 in ./anaconda3/envs/deep_learning_env/lib/python3.9/site-packages (from mistralai) (0.9.0)\n",
            "Requirement already satisfied: six>=1.5 in ./anaconda3/envs/deep_learning_env/lib/python3.9/site-packages (from python-dateutil>=2.8.2->pandas) (1.16.0)\n",
            "Requirement already satisfied: anyio in ./anaconda3/envs/deep_learning_env/lib/python3.9/site-packages (from httpx<0.28.0,>=0.27.0->mistralai) (4.6.0)\n",
            "Requirement already satisfied: certifi in ./anaconda3/envs/deep_learning_env/lib/python3.9/site-packages (from httpx<0.28.0,>=0.27.0->mistralai) (2024.8.30)\n",
            "Requirement already satisfied: httpcore==1.* in ./anaconda3/envs/deep_learning_env/lib/python3.9/site-packages (from httpx<0.28.0,>=0.27.0->mistralai) (1.0.6)\n",
            "Requirement already satisfied: idna in ./anaconda3/envs/deep_learning_env/lib/python3.9/site-packages (from httpx<0.28.0,>=0.27.0->mistralai) (3.7)\n",
            "Requirement already satisfied: sniffio in ./anaconda3/envs/deep_learning_env/lib/python3.9/site-packages (from httpx<0.28.0,>=0.27.0->mistralai) (1.3.1)\n",
            "Requirement already satisfied: h11<0.15,>=0.13 in ./anaconda3/envs/deep_learning_env/lib/python3.9/site-packages (from httpcore==1.*->httpx<0.28.0,>=0.27.0->mistralai) (0.14.0)\n",
            "Requirement already satisfied: annotated-types>=0.6.0 in ./anaconda3/envs/deep_learning_env/lib/python3.9/site-packages (from pydantic<3.0.0,>=2.9.0->mistralai) (0.6.0)\n",
            "Requirement already satisfied: pydantic-core==2.23.4 in ./anaconda3/envs/deep_learning_env/lib/python3.9/site-packages (from pydantic<3.0.0,>=2.9.0->mistralai) (2.23.4)\n",
            "Requirement already satisfied: typing-extensions>=4.6.1 in ./anaconda3/envs/deep_learning_env/lib/python3.9/site-packages (from pydantic<3.0.0,>=2.9.0->mistralai) (4.11.0)\n",
            "Requirement already satisfied: mypy-extensions>=0.3.0 in ./anaconda3/envs/deep_learning_env/lib/python3.9/site-packages (from typing-inspect<0.10.0,>=0.9.0->mistralai) (1.0.0)\n",
            "Requirement already satisfied: exceptiongroup>=1.0.2 in ./anaconda3/envs/deep_learning_env/lib/python3.9/site-packages (from anyio->httpx<0.28.0,>=0.27.0->mistralai) (1.2.2)\n"
          ]
        }
      ],
      "source": [
        "# Installing the necessary packages \n",
        "\n",
        "!pip install pandas mistralai"
      ]
    },
    {
      "cell_type": "markdown",
      "id": "4e0ef041-a23a-437a-b36a-58a1b69be5db",
      "metadata": {
        "id": "4e0ef041-a23a-437a-b36a-58a1b69be5db"
      },
      "source": [
        "## Step 1. User: specify tools and query\n",
        "\n",
        "### Tools\n",
        "\n",
        "Users can define all the necessary tools for their use cases. Here we define functions that will be used to answer the user's query."
      ]
    },
    {
      "cell_type": "code",
      "execution_count": 81,
      "id": "d9e153c1-6ff6-4878-a8c2-e02bac749210",
      "metadata": {
        "id": "d9e153c1-6ff6-4878-a8c2-e02bac749210"
      },
      "outputs": [],
      "source": [
        "# defintion of the function\n",
        "\n",
        "def special_calc(a: int, b: int) -> int:\n",
        "    return a * 23 + 3 * b + 2003\n",
        "\n",
        "def random_calc(a: int, b: int) -> int:\n",
        "    return a * 3 + 2 * b + 100\n",
        "\n",
        "def dual_add(a: int, b: int, c: int, d: int) -> int:\n",
        "    a = a + b\n",
        "    c = c + d\n",
        "    return a,c"
      ]
    },
    {
      "cell_type": "markdown",
      "id": "5728a885-ec7c-4d21-b461-ebb5e29b0a1e",
      "metadata": {
        "id": "5728a885-ec7c-4d21-b461-ebb5e29b0a1e"
      },
      "source": [
        "- In order for Mistral models to understand the functions, we need to outline the function specifications with a JSON schema. Specifically, we need to describe the type, function name, function description, function parameters, and the required parameter for the function. Since we have three functions, we will define three JSON schemas."
      ]
    },
    {
      "cell_type": "code",
      "execution_count": 82,
      "id": "756006e4-ae7e-4023-89d5-7de970f2efe7",
      "metadata": {
        "id": "756006e4-ae7e-4023-89d5-7de970f2efe7"
      },
      "outputs": [],
      "source": [
        "# definition of the tools\n",
        "\n",
        "tools = [\n",
        "    {\n",
        "        \"type\": \"function\",\n",
        "        \"function\": {\n",
        "            \"name\": \"special_calc\",\n",
        "            \"description\": \"given a and b, return a * 23 + 3 * b + 2003\",\n",
        "            \"parameters\": {\n",
        "                \"type\": \"object\",\n",
        "                \"properties\": {\n",
        "                    \"a\": {\n",
        "                        \"type\": \"integer\",\n",
        "                        \"description\": \"The first number.\",\n",
        "                    },\n",
        "                    \"b\": {\n",
        "                        \"type\": \"integer\",\n",
        "                        \"description\": \"The second number.\",\n",
        "                    }\n",
        "                },\n",
        "                \"required\": [\"a\", \"b\"],\n",
        "        },\n",
        "    },\n",
        "    },\n",
        "    {\n",
        "        \"type\": \"function\",\n",
        "        \"function\": {\n",
        "            \"name\": \"random_calc\",\n",
        "            \"description\": \"given a and b, return a * 3 + 2 * b + 100\",\n",
        "            \"parameters\": {\n",
        "                \"type\": \"object\",\n",
        "                \"properties\": {\n",
        "                    \"a\": {\n",
        "                        \"type\": \"integer\",\n",
        "                        \"description\": \"The first number.\",\n",
        "                    },\n",
        "                    \"b\": {\n",
        "                        \"type\": \"integer\",\n",
        "                        \"description\": \"The second number.\",\n",
        "                    }\n",
        "                },\n",
        "                \"required\": [\"a\", \"b\"],\n",
        "            },\n",
        "        },\n",
        "    },\n",
        "    {\n",
        "        \"type\": \"function\",\n",
        "        \"function\": {\n",
        "            \"name\": \"dual_add\",\n",
        "            \"description\": \"given a, b, c, d, return a+b, c+d\",\n",
        "            \"parameters\": {\n",
        "                \"type\": \"object\",\n",
        "                \"properties\": {\n",
        "                    \"a\": {\n",
        "                        \"type\": \"integer\",\n",
        "                        \"description\": \"The first number.\",\n",
        "                    },\n",
        "                    \"b\": {\n",
        "                        \"type\": \"integer\",\n",
        "                        \"description\": \"The second number.\",\n",
        "                    },\n",
        "                    \"c\": {\n",
        "                        \"type\": \"integer\",\n",
        "                        \"description\": \"The third number.\",\n",
        "                    },\n",
        "                    \"d\": {\n",
        "                        \"type\": \"integer\",\n",
        "                        \"description\": \"The fourth number.\",\n",
        "                    }\n",
        "                },\n",
        "                \"required\": [\"a\", \"b\", \"c\", \"d\"],\n",
        "            },\n",
        "        },\n",
        "    }\n",
        "\n",
        "]"
      ]
    },
    {
      "cell_type": "markdown",
      "id": "34144aca-5621-4190-9e7e-a05e4266b6d0",
      "metadata": {
        "id": "34144aca-5621-4190-9e7e-a05e4266b6d0"
      },
      "source": [
        "- Then we organize our three functions into a dictionary where keys represent the function name, and values are the function names. This allows us to call each function based on its function name."
      ]
    },
    {
      "cell_type": "code",
      "execution_count": 83,
      "id": "88d3fda1-72bb-4ee3-a80f-340716a22a01",
      "metadata": {
        "id": "88d3fda1-72bb-4ee3-a80f-340716a22a01"
      },
      "outputs": [],
      "source": [
        "import functools\n",
        "\n",
        "\n",
        "names_to_functions = ({\n",
        "    'special_calc': special_calc,\n",
        "    'random_calc': random_calc,\n",
        "    'dual_add': dual_add\n",
        "})\n"
      ]
    },
    {
      "cell_type": "markdown",
      "id": "e0a05bf6-c244-4124-8196-f9a780fef95d",
      "metadata": {
        "id": "e0a05bf6-c244-4124-8196-f9a780fef95d"
      },
      "source": [
        "### User query\n",
        "\n",
        "Suppose a user asks to perform our dual addition, a standalone LLM would not be able to answer this question correctly because it is something we came up with. But what if we have an exact tool we can use to answer this question? We could potentially provide an answer!"
      ]
    },
    {
      "cell_type": "code",
      "execution_count": 84,
      "id": "6777e7a6-f7e2-42bd-a141-5afe8fbd3c74",
      "metadata": {
        "id": "6777e7a6-f7e2-42bd-a141-5afe8fbd3c74"
      },
      "outputs": [],
      "source": [
        "messages = [{\"role\": \"user\", \"content\": \"What is the result of the special calculation of the dual addition of 3 and 4 and 5 and 6?\"}] "
      ]
    },
    {
      "cell_type": "markdown",
      "id": "9d926683-3cc1-4de6-ad53-adefe8d5cc0b",
      "metadata": {
        "id": "9d926683-3cc1-4de6-ad53-adefe8d5cc0b"
      },
      "source": [
        "## Step 2. Model: Generate function arguments\n",
        "\n",
        "How do Mistral models know about these functions and know which function to use? We provide both the user query and the tools specifications to Mistral models. The goal in this step is not for the Mistral model to run the function directly. \n",
        "It’s to:\n",
        " 1) determine the appropriate function to use based on the user query\n",
        " 2) identify if there is any essential information missing for a function to run\n",
        " 3) generate necessary arguments for the chosen function "
      ]
    },
    {
      "cell_type": "code",
      "execution_count": 96,
      "id": "59493530-b310-447f-9f77-32d9013ffd30",
      "metadata": {
        "colab": {
          "base_uri": "https://localhost:8080/"
        },
        "id": "59493530-b310-447f-9f77-32d9013ffd30",
        "outputId": "b8bfd4bd-eb1d-419c-d529-9bb878dbbefe"
      },
      "outputs": [
        {
          "data": {
            "text/plain": [
              "ChatCompletionResponse(id='966ce8dca12b44a7b659c9f1eddc7df0', object='chat.completion', model='mistral-large-latest', usage=UsageInfo(prompt_tokens=456, completion_tokens=27, total_tokens=483), created=1728382226, choices=[ChatCompletionChoice(index=0, message=AssistantMessage(content='', tool_calls=[ToolCall(function=FunctionCall(name='special_calc', arguments='{\"a\": 7, \"b\": 11}'), id='ZGeqHQ7t0', type='function')], prefix=False, role='assistant'), finish_reason='tool_calls')])"
            ]
          },
          "execution_count": 96,
          "metadata": {},
          "output_type": "execute_result"
        }
      ],
      "source": [
        "from mistralai import Mistral\n",
        "\n",
        "api_key =\"xxxxxxxxxxxxxxxx\"\n",
        "model = \"mistral-large-latest\"\n",
        "\n",
        "client = Mistral(api_key=api_key)\n",
        "\n",
        "response = client.chat.complete(\n",
        "    model = model,\n",
        "    messages = messages,\n",
        "    tools = tools,\n",
        "    tool_choice = \"any\",\n",
        ")\n",
        "\n",
        "response\n",
        "\n"
      ]
    },
    {
      "cell_type": "code",
      "execution_count": 97,
      "id": "a7af5b4d-2128-4833-bd94-b4d924495783",
      "metadata": {
        "id": "a7af5b4d-2128-4833-bd94-b4d924495783"
      },
      "outputs": [
        {
          "data": {
            "text/plain": [
              "[{'role': 'user',\n",
              "  'content': 'What is the result of the special calculation of the dual addition of 3 and 4 and 5 and 6?'},\n",
              " AssistantMessage(content='', tool_calls=[ToolCall(function=FunctionCall(name='dual_add', arguments='{\"a\": 3, \"b\": 4, \"c\": 5, \"d\": 6}'), id='4nZ0s8Yxj', type='function')], prefix=False, role='assistant'),\n",
              " {'role': 'tool',\n",
              "  'name': 'dual_add',\n",
              "  'content': '(7, 11)',\n",
              "  'tool_call_id': '4nZ0s8Yxj'},\n",
              " AssistantMessage(content='', tool_calls=[ToolCall(function=FunctionCall(name='special_calc', arguments='{\"a\": 7, \"b\": 11}'), id='ZGeqHQ7t0', type='function')], prefix=False, role='assistant')]"
            ]
          },
          "execution_count": 97,
          "metadata": {},
          "output_type": "execute_result"
        }
      ],
      "source": [
        "messages.append(response.choices[0].message) \n",
        "\n",
        "messages"
      ]
    },
    {
      "cell_type": "markdown",
      "id": "ffab43e6-3225-45b4-bc85-3689c2eee7c3",
      "metadata": {
        "id": "ffab43e6-3225-45b4-bc85-3689c2eee7c3"
      },
      "source": [
        "## Step 3. User: Execute function to obtain tool results\n",
        "\n",
        "How do we execute the function? Currently, it is the user’s responsibility to execute these functions and the function execution lies on the user side. In the future, we may introduce some helpful functions that can be executed server-side.\n",
        "\n",
        "Let’s extract some useful function information from model response including function_name and function_params."
      ]
    },
    {
      "cell_type": "code",
      "execution_count": 98,
      "id": "db259833-75b0-4538-a78e-8a1566326ec9",
      "metadata": {
        "colab": {
          "base_uri": "https://localhost:8080/"
        },
        "id": "db259833-75b0-4538-a78e-8a1566326ec9",
        "outputId": "b3ea9d74-3e90-49d2-90a1-626c17dd3ad7"
      },
      "outputs": [
        {
          "name": "stdout",
          "output_type": "stream",
          "text": [
            "Executed special_calc with result: 2197\n"
          ]
        },
        {
          "data": {
            "text/plain": [
              "ChatCompletionResponse(id='efcac68c0c414c989afda07cee81f7c6', object='chat.completion', model='mistral-large-latest', usage=UsageInfo(prompt_tokens=177, completion_tokens=29, total_tokens=206), created=1728382272, choices=[ChatCompletionChoice(index=0, message=AssistantMessage(content='The result of the special calculation of the dual addition of 3 and 4 and 5 and 6 is 2197.', tool_calls=None, prefix=False, role='assistant'), finish_reason='stop')])"
            ]
          },
          "execution_count": 98,
          "metadata": {},
          "output_type": "execute_result"
        }
      ],
      "source": [
        "import json\n",
        "\n",
        "\n",
        "def process_function_calls(response, names_to_functions, messages):\n",
        "    \"\"\"\n",
        "    Process multiple or nested function calls from the model response.\n",
        "    \"\"\"\n",
        "    while True:\n",
        "        # Check if there are function calls in the response\n",
        "        tool_calls = response.choices[0].message.tool_calls\n",
        "        if not tool_calls:\n",
        "            break\n",
        "\n",
        "        # Process each tool call\n",
        "        for tool_call in tool_calls:\n",
        "            function_name = tool_call.function.name\n",
        "            function_params = json.loads(tool_call.function.arguments)\n",
        "            \n",
        "\n",
        "            # Execute the function\n",
        "            function_result = names_to_functions[function_name](**function_params)\n",
        "            print(f\"Executed {function_name} with result: {function_result}\")\n",
        "\n",
        "            # Append the result to the messages\n",
        "            messages.append({\n",
        "                \"role\": \"tool\",\n",
        "                \"name\": function_name,\n",
        "                \"content\": str(function_result),\n",
        "                \"tool_call_id\": tool_call.id\n",
        "            })\n",
        "\n",
        "        # Continue calling the model with updated messages\n",
        "        response = client.chat.complete(model=model, messages=messages)\n",
        "\n",
        "    return response\n",
        "\n",
        "messages\n",
        "\n",
        "response = process_function_calls(response, names_to_functions, messages)\n",
        "\n",
        "response"
      ]
    },
    {
      "cell_type": "markdown",
      "id": "2aa2e194-1e97-4446-817d-9b57dcfab371",
      "metadata": {
        "id": "2aa2e194-1e97-4446-817d-9b57dcfab371"
      },
      "source": [
        "## Step 4. Model: Generate final answer\n",
        "\n",
        "We can now provide the output from the tools to Mistral models, and in return, the Mistral model can produce a customised final response for the specific user."
      ]
    },
    {
      "cell_type": "code",
      "execution_count": 99,
      "id": "36e1cbb5-96bf-49b6-bada-ff6338d67d86",
      "metadata": {
        "colab": {
          "base_uri": "https://localhost:8080/",
          "height": 36
        },
        "id": "36e1cbb5-96bf-49b6-bada-ff6338d67d86",
        "outputId": "7d304379-b78e-4e88-e214-9f160d1a04d0"
      },
      "outputs": [
        {
          "data": {
            "text/plain": [
              "'The result of the special calculation of the dual addition of 3 and 4 and 5 and 6 is 2197.'"
            ]
          },
          "execution_count": 99,
          "metadata": {},
          "output_type": "execute_result"
        }
      ],
      "source": [
        "response.choices[0].message.content"
      ]
    }
  ],
  "metadata": {
    "colab": {
      "provenance": []
    },
    "kernelspec": {
      "display_name": "deep_learning_env",
      "language": "python",
      "name": "python3"
    },
    "language_info": {
      "codemirror_mode": {
        "name": "ipython",
        "version": 3
      },
      "file_extension": ".py",
      "mimetype": "text/x-python",
      "name": "python",
      "nbconvert_exporter": "python",
      "pygments_lexer": "ipython3",
      "version": "3.9.19"
    }
  },
  "nbformat": 4,
  "nbformat_minor": 5
}
